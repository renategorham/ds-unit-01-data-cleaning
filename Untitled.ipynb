{
 "cells": [
  {
   "cell_type": "code",
   "execution_count": null,
   "metadata": {},
   "outputs": [],
   "source": [
    "import pandas as pd\n",
    "import numpy as np\n",
    "from fuzzywuzzy import fuzz\n",
    "from fuzzywuzzy import process\n",
    "\n",
    "def similarities(needle, haystack):\n",
    "    return process.extract(needle, haystack)[0]\n",
    "\n",
    "welcome_titles_df = pd.read_csv('./welcome-titles-to-match.csv', names=['title'])\n",
    "#welcome_titles_df.rename(index=str, columns={'Journal title':'title'}, inplace=True)\n",
    "\n",
    "pubmed_titles = pd.read_csv('./pubmed-titles.txt', delimiter=';', header=None, names=['abbreviation', 'title'])\n",
    "\n",
    "for i in welcome_titles_df.title:\n",
    "    data = similarities(i, pubmed_titles.title)\n",
    "    abbr = pubmed_titles.loc[pubmed_titles['title'] == similarities(i, pubmed_titles.title)[0], 'abbreviation']\n",
    "    abbr = list(abbr)\n",
    "    print(i, ',', data, ',', abbr)"
   ]
  },
  {
   "cell_type": "code",
   "execution_count": null,
   "metadata": {},
   "outputs": [],
   "source": [
    "welcome_titles_df.title\n"
   ]
  },
  {
   "cell_type": "code",
   "execution_count": null,
   "metadata": {},
   "outputs": [],
   "source": []
  }
 ],
 "metadata": {
  "kernelspec": {
   "display_name": "Python 3",
   "language": "python",
   "name": "python3"
  },
  "language_info": {
   "codemirror_mode": {
    "name": "ipython",
    "version": 3
   },
   "file_extension": ".py",
   "mimetype": "text/x-python",
   "name": "python",
   "nbconvert_exporter": "python",
   "pygments_lexer": "ipython3",
   "version": "3.7.0"
  },
  "toc": {
   "base_numbering": 1,
   "nav_menu": {},
   "number_sections": true,
   "sideBar": true,
   "skip_h1_title": true,
   "title_cell": "",
   "title_sidebar": "Contents",
   "toc_cell": false,
   "toc_position": {},
   "toc_section_display": true,
   "toc_window_display": true
  }
 },
 "nbformat": 4,
 "nbformat_minor": 2
}
