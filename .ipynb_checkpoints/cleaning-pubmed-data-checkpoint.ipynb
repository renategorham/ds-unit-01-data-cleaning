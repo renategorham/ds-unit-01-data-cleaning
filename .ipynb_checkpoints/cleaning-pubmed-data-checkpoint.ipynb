{
 "cells": [
  {
   "cell_type": "code",
   "execution_count": 2,
   "metadata": {},
   "outputs": [],
   "source": [
    "import pandas as pd\n",
    "import numpy as np\n",
    "import re\n",
    "import difflib\n",
    "from fuzzywuzzy import fuzz\n",
    "from fuzzywuzzy import process\n"
   ]
  },
  {
   "cell_type": "markdown",
   "metadata": {},
   "source": [
    "Open the data set. Use ISO encoding, for the pound sterling symbol."
   ]
  },
  {
   "cell_type": "code",
   "execution_count": 3,
   "metadata": {},
   "outputs": [],
   "source": [
    "welcome = pd.read_csv('WELLCOME_APCspend2013_forThinkful.csv',encoding='iso8859_15')"
   ]
  },
  {
   "cell_type": "code",
   "execution_count": 4,
   "metadata": {
    "scrolled": true
   },
   "outputs": [],
   "source": [
    "def simularities(col1, col2):\n",
    " \n",
    "    return process.extract(col1, col2)[0]"
   ]
  },
  {
   "cell_type": "code",
   "execution_count": 7,
   "metadata": {
    "scrolled": true
   },
   "outputs": [
    {
     "data": {
      "text/plain": [
       "4776     J Med Chem\n",
       "Name: abbreviation, dtype: object"
      ]
     },
     "execution_count": 7,
     "metadata": {},
     "output_type": "execute_result"
    }
   ],
   "source": [
    "j_titles_1 = pd.DataFrame(welcome['Journal title'].unique())\n",
    "j_titles_1.rename(index=int, columns={0:'title'},inplace=True)\n",
    "\n",
    "titles_pubmed = pd.read_csv('titles_pubmed.txt', delimiter=';', header=None,\\\n",
    "                            names=['abbreviation', 'title'])\n",
    "\n",
    "\n",
    "for i in j_titles_1.title.head():\n",
    "    lines = simularities(i, titles_pubmed.title)\n",
    "    abbr = titles_pubmed.loc[titles_pubmed['title'] == \\\n",
    "           simularities(i, titles_pubmed.title)[0], 'abbreviation']\n",
    "    \n",
    "\n",
    "    \n",
    "    \n",
    "\n",
    "\n"
   ]
  },
  {
   "cell_type": "markdown",
   "metadata": {},
   "source": [
    "Look at types"
   ]
  },
  {
   "cell_type": "code",
   "execution_count": null,
   "metadata": {},
   "outputs": [],
   "source": [
    "welcome.dtypes"
   ]
  },
  {
   "cell_type": "markdown",
   "metadata": {},
   "source": [
    "Look at unique data in each column."
   ]
  },
  {
   "cell_type": "code",
   "execution_count": null,
   "metadata": {},
   "outputs": [],
   "source": [
    "welcome['PMID/PMCID'].to_csv('PMID.csv')"
   ]
  },
  {
   "cell_type": "code",
   "execution_count": null,
   "metadata": {},
   "outputs": [],
   "source": [
    "welcome['Publisher'].unique()"
   ]
  },
  {
   "cell_type": "code",
   "execution_count": null,
   "metadata": {},
   "outputs": [],
   "source": [
    "welcome['Journal title'].unique()"
   ]
  },
  {
   "cell_type": "code",
   "execution_count": null,
   "metadata": {},
   "outputs": [],
   "source": [
    "welcome['Article title'].unique()"
   ]
  },
  {
   "cell_type": "code",
   "execution_count": null,
   "metadata": {},
   "outputs": [],
   "source": [
    "welcome['COST (£) charged to Wellcome (inc VAT when charged)'].unique()"
   ]
  },
  {
   "cell_type": "markdown",
   "metadata": {},
   "source": [
    "Rename column 'COST (£) charged to Wellcome (inc VAT when charged)' to 'cost'. \n",
    "Rename other columns to one string to make copy and paste faster."
   ]
  },
  {
   "cell_type": "code",
   "execution_count": null,
   "metadata": {},
   "outputs": [],
   "source": [
    "welcome.rename(index=str, columns={'PMID/PMCID':'PMID_PMCID',\\\n",
    "              'Journal title':'journal_title', \\\n",
    "              'Article title':'article_title', \\\n",
    "              'COST (£) charged to Wellcome (inc VAT when charged)':'cost'}, \n",
    "               inplace=True)"
   ]
  },
  {
   "cell_type": "markdown",
   "metadata": {},
   "source": [
    "Remove the sterling pound symbol."
   ]
  },
  {
   "cell_type": "code",
   "execution_count": null,
   "metadata": {},
   "outputs": [],
   "source": [
    "welcome.cost = welcome.cost.apply(lambda x: x.strip('£'))"
   ]
  },
  {
   "cell_type": "markdown",
   "metadata": {},
   "source": [
    "Looking at unique values (above) there are instances of tailing white space.  \n",
    "Strip the occasional white space from all columns.\n",
    "First, replace empty NaN with empty strings."
   ]
  },
  {
   "cell_type": "code",
   "execution_count": null,
   "metadata": {},
   "outputs": [],
   "source": [
    "welcome = welcome.replace(np.nan, '', regex=True)"
   ]
  },
  {
   "cell_type": "code",
   "execution_count": null,
   "metadata": {
    "scrolled": false
   },
   "outputs": [],
   "source": [
    "welcome.PMID_PMCID = welcome.PMID_PMCID.apply(lambda x: x.strip())\n",
    "welcome.Publisher = welcome.Publisher.apply(lambda x: x.strip())\n",
    "welcome.journal_title = welcome.journal_title.apply(lambda x: x.strip())\n",
    "welcome.article_title = welcome.article_title.apply(lambda x: x.strip())\n",
    "welcome.cost = welcome.cost.apply(lambda x: x.strip())\n"
   ]
  },
  {
   "cell_type": "markdown",
   "metadata": {},
   "source": [
    "Some publishers are in journal title, look up journal by PMID and replace."
   ]
  },
  {
   "cell_type": "code",
   "execution_count": null,
   "metadata": {
    "scrolled": true
   },
   "outputs": [],
   "source": [
    "pd.set_option('display.max_colwidth', -1)\n",
    "\n",
    "welcome[welcome['journal_title']=='Scientific Reports']"
   ]
  },
  {
   "cell_type": "code",
   "execution_count": null,
   "metadata": {
    "scrolled": true
   },
   "outputs": [],
   "source": [
    "#welcome_2 = pd.DataFrame(welcome)\n",
    "welcome.iloc[546, 2] = 'Brain Behav Immun'\n",
    "welcome.iloc[547, 2] = 'Behav Res Ther'\n",
    "welcome.iloc[548, 2] = 'J Pediatr'\n",
    "welcome.iloc[549, 2] = 'Pathogens Dis'\n",
    "welcome.iloc[550, 2] = 'Health Place'\n",
    "welcome.iloc[551, 2] = 'Drug Alcohol Depend'\n",
    "welcome.iloc[552, 2] = 'Lancet'\n",
    "welcome.iloc[1255, 2] = 'Health Policy Plan'\n",
    "welcome.iloc[1256, 2] = 'Age Aging'\n",
    "welcome.iloc[1793, 2] = 'Acta Neuropathol'\n",
    "welcome.iloc[1614, 2] = 'PLoS Medicine'\n",
    "welcome.iloc[1616, 2] = 'PLoS One' \n",
    "welcome.iloc[1615, 2] = 'PLoS Negl Trop Dis'\n",
    "welcome.iloc[1343, 2] = 'PLoS Negl Trop Dis'\n",
    "welcome.iloc[1344, 2] = 'PLoS Negl Trop Dis'\n",
    "welcome.iloc[986, 2] = 'Mycoses and Modernity'\n",
    "welcome.iloc[1643, 2] = 'Proc Biol Sci'\n",
    "welcome.iloc[1642, 2] = 'Proc Biol Sci'\n",
    "welcome.iloc[1860, 2] = 'Proc Biol Sci'\n",
    "welcome.iloc[1644, 2] = 'Proc Biol Sci'\n",
    "welcome.iloc[1647, 2] = 'Proc Biol Sci'\n",
    "welcome.iloc[1648, 2] = 'Proc Biol Sci'\n",
    "welcome.iloc[1649, 2] = 'Proc Biol Sci'\n",
    "welcome.iloc[1861, 2] = 'Proc Biol Sci'\n",
    "welcome.iloc[1862, 2] = 'Proc Biol Sci'\n",
    "welcome.iloc[1863, 2] = 'Proc Biol Sci'\n",
    "welcome.iloc[1818, 2] = 'Eur J Engl Stud'\n",
    "welcome.iloc[1817, 2] = 'Engl Stud (Amst)'\n",
    "welcome.iloc[1859, 2] = 'Philos Trans R Soc Lond B Biol Sci'\n",
    "welcome.iloc[1864, 2] = 'Philos Trans R Soc Lond B Biol Sci'\n",
    "welcome.iloc[115, 2] = 'J Biol Chem'\n",
    "welcome.iloc[153, 2] = 'Mol Cell Proteomics'\n",
    "welcome.iloc[659, 2] = 'Molecular and Biochemical Parasitology'\n",
    "welcome.iloc[1258, 2] = 'QJM'\n",
    "welcome.iloc[1259, 2] = 'QJM'\n",
    "welcome.iloc[1711, 2] = 'Acta Derm Venereol'\n",
    "welcome.iloc[1716, 2] = 'Acta Diabetologica'\n",
    "welcome.iloc[1800, 2] = 'Reprod Biol Endocrinol'\n",
    "welcome.iloc[1856, 2] = 'Br J Psychiatry'\n",
    "welcome.iloc[2079, 2] = 'Journal of the International Hepato Pancreato Biliary Association'\n",
    "welcome.iloc[176, 2] = 'J Neuroinflammation'\n",
    "welcome.iloc[85, 2] = 'Antimicrob Agents Chemother'\n",
    "welcome.iloc[1057, 2] = 'EMBO J'\n",
    "welcome.iloc[920, 2] = 'Acta Crystallogr D Biol Crystallogr'\n",
    "welcome.iloc[921, 2] = 'Acta Crystallogr D Biol Crystallogr'\n",
    "welcome.iloc[922, 2] = 'Acta Crystallogr D Biol Crystallogr'\n",
    "welcome.iloc[923, 2] = 'Acta Crystallogr D Biol Crystallogr'\n",
    "welcome.iloc[927, 2] = 'Acta Crystallogr D Biol Crystallogr'\n",
    "welcome.iloc[924, 2] = 'Acta Crystallogr Sect F Struct Biol Cryst Commun'\n",
    "welcome.iloc[928, 2] = 'Acta Crystallogr Sect F Struct Biol Cryst Commun'\n",
    "welcome.iloc[929, 2] = 'Acta Crystallogr Sect F Struct Biol Cryst Commun'\n",
    "welcome.iloc[455, 2] = 'Biochim Biophys Acta'\n",
    "welcome.iloc[464, 2] = 'Biochim Biophys Acta'\n",
    "welcome.iloc[465, 2] = 'Biochim Biophys Acta'\n",
    "welcome.iloc[467, 2] = 'Biochim Biophys Acta'\n",
    "welcome.iloc[467, 2] = 'Biochim Biophys Acta'\n",
    "welcome.iloc[787, 2] = 'Stud Hist Philos Biol Biomed Sci'\n",
    "welcome.iloc[788, 2] = 'Stud Hist Philos Biol Biomed Sci'\n",
    "welcome.iloc[803, 2] = 'Trans R Soc Trop Med Hyg'\n",
    "welcome.iloc[918, 2] = 'Int J Tuberc Lung Dis'\n",
    "welcome.iloc[1097, 2] = 'Sci Rep'\n",
    "welcome.iloc[1048, 2] = 'Sci Rep'\n",
    "welcome.iloc[1049, 2] = 'Sci Rep'\n",
    "welcome.iloc[1096, 2] = 'Sci Rep'\n",
    "\n",
    "welcome.iloc[918]"
   ]
  },
  {
   "cell_type": "markdown",
   "metadata": {},
   "source": [
    "Clean up journal titles.  "
   ]
  },
  {
   "cell_type": "code",
   "execution_count": null,
   "metadata": {},
   "outputs": [],
   "source": [
    "j_titles = pd.DataFrame(welcome.journal_title.unique())\n",
    "j_titles.rename(index=int, columns={0:'title'},inplace=True)\n",
    "j_titles.to_csv('titles.csv')\n",
    "\n",
    "#{'\\\\.':'',{',':'', ':':'', '-':'',}\n",
    "\n",
    "j_titles.title = j_titles.title.str.lower()\n",
    "fixes =   '(\\\\w*the\\\\w*)(\\\\s)':''}#,\\\n",
    "         #'(\\\\w*for\\\\w*)(\\\\s)':'', 'joural':'journal', 'jounral':'journal',\\\n",
    "         #'journ.*? of':'j ', 'jnl':'j', '(\\\\b)(\\\\w*journ.*?\\\\w*)(\\\\b)':'j',\\\n",
    "         #'(\\\\b)(\\\\w*online\\\\w*)(\\\\b)':'', 'american chemical society':'acs',\\\n",
    "         #'(\\\\b)(\\\\w*proceedings.*? sciences\\\\w*)(\\\\b)':'pnas',\\\n",
    "         #'bmc':'BioMed Cntrl', 'bms':'BioMed Cntrl', 'bmj':'Br Med J',\\\n",
    "         #'antimicrobial agents and chemotherapy':'Antimicrob Agents Chemother',\\\n",
    "         #'national academy of sciences':'pnas', \\\n",
    "         #'pnas \\\\(pnas of united states of america':'pnas', \\\n",
    "         #'proceddings of pnas of usa':'pnas', 'of united states of america':'',\\\n",
    "         #'of usa':'', 'usa':'', 'proc natl acad sci u s a':'pnas',\\\n",
    "         #'pnas \\\\(pnas\\\\)':'pnas', 'jaids':'', \\\n",
    "         #'jaids j acquired immune deficiency syndromes':'j aids',\\\n",
    "         #'\\\\(\\\\)':'', '\\\\(':'', '\\\\)':'',\\\n",
    "         #'acquired immune deficiency syndroms':'aids',\\\n",
    "         #'acquired immune deficiency syndromes':'aids', 'aids j':'aids',\\\n",
    "         #'aids uk':'aids', '&':'and', 'amer.*? ':'am ', 'europe.*? ':'eu ',\\\n",
    "         #'(\\\\b)(\\\\w*brit.*?\\\\w*)(\\\\b)':'br', 'brt':'br', 'english':'en',\\\n",
    "         #'canadian':'cn', '(\\\\b)(\\\\w*medi.*?\\\\w*)(\\\\b)':'med', \\\n",
    "         #'(\\\\b)(\\\\w*internat.*?\\\\w*)(\\\\b)':'intl ',\\\n",
    "         #'int j epidemiol':'intl j epidemiol', \\\n",
    "         #'(\\\\b)(\\\\w*chemi.*?\\\\w*)(\\\\b)':' chem', 'ogy':'', \\\n",
    "         #'ogical':'', 'ogicial':'', 'iatry':'', 'research':'resch',\\\n",
    "         #'(\\\\b)(\\\\w*neuroscience\\\\w*)(\\\\b)':'neurocsi', \\\n",
    "         #'(\\\\b)(\\\\w*behavi\\\\w*)(\\\\b)':'behav', 'sical':'', 'ivity':'',\\\n",
    "         #'molecular':'mol', '(\\\\b)(\\\\w*cellul\\\\w*)(\\\\b)':'cell',\\\n",
    "         #'(\\\\b)(\\\\w*proteomi\\\\w*)(\\\\b)':'proteo', \\\n",
    "         #'(\\\\b)(\\\\w*current\\\\w*)(\\\\b)':'curr', \\\n",
    "         #'(\\\\b)(\\\\w*topics\\\\w*)(\\\\b)':'top', \\\n",
    "         #'(\\\\b)(\\\\w*respir\\\\w*)(\\\\b)':'respir ',\\\n",
    "         #'reproduction\\\\(cambridge, england\\\\)':'repoduct', \\\n",
    "         #'(\\\\b)(\\\\w*chemotherapy\\\\w*)(\\\\b)':'chemother',\\\n",
    "         #'(\\\\b)(\\\\w*psychogeri\\\\w*)(\\\\b)':'psychogeri', \\\n",
    "         #'(\\\\b)(\\\\w*nutrit\\\\w*)(\\\\b)':'nutri', \\\n",
    "         #'(\\\\b)(\\\\w*institute\\\\w*)(\\\\b)':'inst', 'cell press -':'',\\\n",
    "         #'(\\\\b)(\\\\w*respi.*?\\\\w*)(\\\\b)':'respir ', \\\n",
    "         #'(\\\\b)(\\\\w*opinion\\\\w*)(\\\\b)':'opinions', '(\\\\s)(in)(\\\\s)':' ',\\\n",
    "         #'(\\\\b)(\\\\w*neuroimage\\\\w*)(\\\\b)':'neuroImage', \\\n",
    "         #'biinformatics':'bioinformatics', \\\n",
    "         #'nucleic acids resch':'nucleic acid resch', \\\n",
    "         #'public library of science':'plos', 'plos one':'plos',\\\n",
    "         #'plos  one':'plos', 'plos 1':'plos', 'plosone':'plos', \\\n",
    "         #'plos':'plos one', 'negected':'neglected', \\\n",
    "         #'plos one med j':'plos one med', \\\n",
    "         #'j autism and development disorders':'j autism and developmental disorders',\\\n",
    "         #'(\\\\b)(\\\\w*archiv\\\\w*)(\\\\b)':'archive', 'scienceresch':'science resch',\\\n",
    "         #'applied statistics':'', 'blood j 2012':'blood', 'opthalmol':'ophthalmol',\\\n",
    "         #'bjophthalmol':'br j ophthalmol', 'mol bio':'mol biol', \\\n",
    "         #'epigentics':'epigenetics', 'expermiments':'experiments', \\\n",
    "         #'sci rep':'scientific reports', \\\n",
    "         #'nephrol dialysis transplantation':'nephrol dialysis and transplantation'}\n",
    "#{'aids':AIDS', '(\\\\b)(\\\\w*AIDS j\\\\w*)(\\\\b)':'AIDS', 'AIDS uk':'AIDS'}\n",
    "\n",
    "j_titles.title = j_titles.title.replace(fixes, inplace=True, regex=True)\n",
    "\n",
    "\n",
    "\n",
    "pd.set_option('display.max_colwidth', -1)\n",
    "j_titles.iloc[850:900]\n",
    "#mod_j_titles = pd.DataFrame(j_titles.title.unique())\n",
    "#mod_j_titles.to_csv('titles_2.csv')\n"
   ]
  },
  {
   "cell_type": "code",
   "execution_count": null,
   "metadata": {
    "scrolled": true
   },
   "outputs": [],
   "source": [
    "mod_j_titles = pd.DataFrame(j_titles.title.unique())\n",
    "\n",
    "#.str.replace('chembiochem', 'ChemBioChem')\\\n",
    "#.str.replace('chemmedchem', 'ChemMedChem')\\\n",
    "\n",
    "\n",
    "mod_j_titles[50:100]"
   ]
  },
  {
   "cell_type": "code",
   "execution_count": null,
   "metadata": {},
   "outputs": [],
   "source": [
    "pmid = pd.read_csv('PMID.csv')\n",
    "pmid = pmid.replace(np.nan, '', regex=True)\n",
    "pmid.drop('0', axis=1, inplace=True)\n",
    "pmid.rename(index=str, columns={'Unnamed: 1':'id'}, inplace=True)\n",
    "replacements = {'PMID':'', 'PMC':'', 'ID':'', ':':'', ',':'', '\\r\\n':'',\\\n",
    "               '(\\\\d{8})(\\\\s)':''}\n",
    "\n",
    "pmid.id = pmid.id.replace(replacements, regex=True)\n",
    "pmid[0:50]"
   ]
  },
  {
   "cell_type": "code",
   "execution_count": null,
   "metadata": {},
   "outputs": [],
   "source": []
  },
  {
   "cell_type": "code",
   "execution_count": null,
   "metadata": {},
   "outputs": [],
   "source": []
  }
 ],
 "metadata": {
  "kernelspec": {
   "display_name": "Python 3",
   "language": "python",
   "name": "python3"
  },
  "language_info": {
   "codemirror_mode": {
    "name": "ipython",
    "version": 3
   },
   "file_extension": ".py",
   "mimetype": "text/x-python",
   "name": "python",
   "nbconvert_exporter": "python",
   "pygments_lexer": "ipython3",
   "version": "3.7.0"
  },
  "toc": {
   "base_numbering": 1,
   "nav_menu": {},
   "number_sections": true,
   "sideBar": false,
   "skip_h1_title": true,
   "title_cell": "",
   "title_sidebar": "Contents",
   "toc_cell": false,
   "toc_position": {
    "height": "47.7167px",
    "left": "88.9667px",
    "top": "111.133px",
    "width": "159.033px"
   },
   "toc_section_display": true,
   "toc_window_display": true
  }
 },
 "nbformat": 4,
 "nbformat_minor": 2
}
