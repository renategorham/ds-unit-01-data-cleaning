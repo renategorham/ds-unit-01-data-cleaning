{
 "cells": [
  {
   "cell_type": "code",
   "execution_count": 1,
   "metadata": {},
   "outputs": [],
   "source": [
    "import pandas as pd\n",
    "import numpy as np\n",
    "import re\n",
    "import difflib\n",
    "from fuzzywuzzy import fuzz\n",
    "from fuzzywuzzy import process\n",
    "import requests\n",
    "import xml.etree.ElementTree as ET\n"
   ]
  },
  {
   "cell_type": "markdown",
   "metadata": {},
   "source": [
    "Open the data set. Use ISO encoding, for the pound sterling symbol."
   ]
  },
  {
   "cell_type": "code",
   "execution_count": 2,
   "metadata": {},
   "outputs": [],
   "source": [
    "welcome = pd.read_csv('WELLCOME_APCspend2013_forThinkful.csv',encoding='iso8859_15')\n"
   ]
  },
  {
   "cell_type": "markdown",
   "metadata": {},
   "source": [
    "Look at types"
   ]
  },
  {
   "cell_type": "code",
   "execution_count": 3,
   "metadata": {},
   "outputs": [
    {
     "data": {
      "text/plain": [
       "PMID/PMCID                                             object\n",
       "Publisher                                              object\n",
       "Journal title                                          object\n",
       "Article title                                          object\n",
       "COST (£) charged to Wellcome (inc VAT when charged)    object\n",
       "dtype: object"
      ]
     },
     "execution_count": 3,
     "metadata": {},
     "output_type": "execute_result"
    }
   ],
   "source": [
    "welcome.dtypes"
   ]
  },
  {
   "cell_type": "markdown",
   "metadata": {},
   "source": [
    "Look at unique data in each column."
   ]
  },
  {
   "cell_type": "code",
   "execution_count": null,
   "metadata": {},
   "outputs": [],
   "source": [
    "welcome['Publisher'].value_counts()"
   ]
  },
  {
   "cell_type": "code",
   "execution_count": null,
   "metadata": {},
   "outputs": [],
   "source": [
    "welcome['Journal title'].value_counts()"
   ]
  },
  {
   "cell_type": "code",
   "execution_count": null,
   "metadata": {},
   "outputs": [],
   "source": [
    "#welcome['Article title'].unique()"
   ]
  },
  {
   "cell_type": "code",
   "execution_count": null,
   "metadata": {},
   "outputs": [],
   "source": [
    "#welcome['COST (£) charged to Wellcome (inc VAT when charged)'].unique()"
   ]
  },
  {
   "cell_type": "markdown",
   "metadata": {},
   "source": [
    "Rename column 'COST (£) charged to Wellcome (inc VAT when charged)' to 'cost'. \n",
    "Rename other columns to one string to make copy and paste faster."
   ]
  },
  {
   "cell_type": "code",
   "execution_count": 4,
   "metadata": {},
   "outputs": [],
   "source": [
    "welcome.rename(index=str, columns={'PMID/PMCID':'PMID_PMCID',\\\n",
    "              'Journal title':'journal_title', \\\n",
    "              'Article title':'article_title', \\\n",
    "              'COST (£) charged to Wellcome (inc VAT when charged)':'cost'}, \n",
    "               inplace=True)"
   ]
  },
  {
   "cell_type": "markdown",
   "metadata": {},
   "source": [
    "Remove the sterling pound symbol."
   ]
  },
  {
   "cell_type": "code",
   "execution_count": 5,
   "metadata": {},
   "outputs": [],
   "source": [
    "welcome.cost = welcome.cost.apply(lambda x: x.strip('£'))"
   ]
  },
  {
   "cell_type": "markdown",
   "metadata": {},
   "source": [
    "Looking at unique values (above) there are instances of tailing white space.  \n",
    "Strip the occasional white space from all columns.\n",
    "First, replace empty NaN with empty strings."
   ]
  },
  {
   "cell_type": "code",
   "execution_count": 6,
   "metadata": {},
   "outputs": [],
   "source": [
    "welcome = welcome.replace(np.nan, '', regex=True)"
   ]
  },
  {
   "cell_type": "code",
   "execution_count": 7,
   "metadata": {
    "scrolled": false
   },
   "outputs": [
    {
     "data": {
      "text/plain": [
       "PMID_PMCID                                              PMC3617368\n",
       "Publisher                               Dartmouth Journal Services\n",
       "journal_title                                         Cell Reports\n",
       "article_title    Inhibition of mitochondrial aconitase by succi...\n",
       "cost                                                       3967.99\n",
       "Name: 422, dtype: object"
      ]
     },
     "execution_count": 7,
     "metadata": {},
     "output_type": "execute_result"
    }
   ],
   "source": [
    "welcome.PMID_PMCID = welcome.PMID_PMCID.apply(lambda x: x.strip())\n",
    "welcome.Publisher = welcome.Publisher.apply(lambda x: x.strip())\n",
    "welcome.journal_title = welcome.journal_title.apply(lambda x: x.strip())\n",
    "welcome.article_title = welcome.article_title.apply(lambda x: x.strip())\n",
    "welcome.cost = welcome.cost.apply(lambda x: x.strip())\n",
    "welcome.iloc[422]"
   ]
  },
  {
   "cell_type": "markdown",
   "metadata": {},
   "source": [
    "Journal titles are Inconsistent. We need a list of good journal title names that can be queried. I did the following:  \n",
    "1) The national center for biotechnology information has a text file of all cited journals - ftp://ftp.ncbi.nih.gov/pubmed/J_Medline.txt.  \n",
    "2) In bash - created a txt file and added the data.  cat > J_Medline.txt  \n",
    "3) Using awk - selected the titles and medline abbreviations. The abbreviations and full titles are on different lines. awk '($1==\"JournalTitle:\") {$1=\"\"; print $0} ($1==\"MedAbbr:\") {$1=\"\"; print $0}' J_Medline.txt > titles_Abbrev.txt  \n",
    "4) Cleaned up the file using sed (removed all punctuation). sed 's|[ ] [ ) ( :;.,]||g' filename  \n",
    "5) Moved the abbreviation and full title to the same line. awk '!(NR%2){print$0\";\"p}{p=$0}' titles_Abbrev.txt > titles_pubmed.txt  \n",
    "6) Made a csv file of unique journal title names (from the welcome database). used pandas  \n",
    "7) Cleaned up the file using sed (removed all punctuation). sed 's|[ ] [ ) ( :;.,]||g' filename  \n",
    "8) Made a script in the CLI, using the bash visual editor. cf. string-math.py (note I imported fuzzywuzzy to match stings.  \n",
    "9) Ran the script to match the Medline full titles and abbreviations to the welcome data titles. The script prints into a csv file. python string-match.py > pubmed_titles.csv    \n",
    "10) Cleaned up the file using sed (removed all '[ ]' and '( )' and single quote marks).  sed 's|[][)('\"'\"']||g' pubmed_titles.csv > pubmed_titles_clean.csv    \n",
    "11) Read the csv file into a pandas dataframe, then visually inspected records where the fuzzywuzzy score was less than 100. Removed obvious bad records.  \n",
    "11) Match matched the journal titles from the pubmed_titles.csv to the welcome data, returned the Medline abbreviation.  \n",
    "12) Ran the script to match welcome titles to the Medline abbreviation. python string-match-abbr.py > pubmed_titles_abbr.csv"
   ]
  },
  {
   "cell_type": "markdown",
   "metadata": {},
   "source": [
    "Below is the analysis of pubmed_titles. Notes and observations:  \n",
    "1) Scores of minimum (50) to 70. n=8. No matches.  \n",
    "2) Scores of 71 to 80, n=5. No matches.  \n",
    "3) Scores of 86 to 88, n=53. Four matches at scores 87 and 88.  \n",
    "4) Scores of 89 to 90. n=161. 40 matches.  \n",
    "5) Scores of 91 to 95 n=173. 131 matches.  \n",
    "6) Scores of 96 to 99 n=41. 41 matches.  \n",
    "7) Score of 100. n=542, exact match.  \n",
    "\n",
    "About 77% match unique titles"
   ]
  },
  {
   "cell_type": "code",
   "execution_count": 8,
   "metadata": {},
   "outputs": [],
   "source": [
    "pubmed_titles = pd.read_table('pubmed_titles_clean.csv', sep=',',\\\n",
    "                            names=['journal_title', 'full_title', 'score',\\\n",
    "                                  'file_index', 'medline_abbr'], \\\n",
    "                              encoding='iso8859_15')\n",
    "pubmed_titles.journal_title = pubmed_titles.journal_title.apply(lambda x: x.strip())\n",
    "pubmed_titles.full_title = pubmed_titles.full_title.apply(lambda x: x.strip())\n",
    "pubmed_titles.medline_abbr = pubmed_titles.medline_abbr.apply(lambda x: x.strip())\n",
    "#pd.set_option('display.max_rows', 200)\n",
    "#pubmed_titles[pubmed_titles.score.between(100,100)].sort_values('score')"
   ]
  },
  {
   "cell_type": "code",
   "execution_count": 9,
   "metadata": {},
   "outputs": [],
   "source": [
    "abbr_titles = pd.read_table('pubmed_titles_abbr_clean.csv', sep=',',\\\n",
    "                            names=['journal_title', 'medline_abbr', 'score',\\\n",
    "                                  'file_index', 'medline_abbr_2'], \\\n",
    "                              encoding='iso8859_15')\n",
    "abbr_titles.journal_title = abbr_titles.journal_title.apply(lambda x: x.strip())\n",
    "abbr_titles.medline_abbr_2 = abbr_titles.medline_abbr_2.apply(lambda x: x.strip())\n",
    "abbr_titles.medline_abbr = abbr_titles.medline_abbr.apply(lambda x: x.strip())"
   ]
  },
  {
   "cell_type": "markdown",
   "metadata": {},
   "source": [
    "Merge pubmed_titles with the welcome data set. Do the same with abbr_titles."
   ]
  },
  {
   "cell_type": "code",
   "execution_count": 10,
   "metadata": {},
   "outputs": [],
   "source": [
    "welcome_new = welcome.merge(pubmed_titles, how='outer', on='journal_title', validate='m:m')\n",
    "welcome_new.drop_duplicates(inplace=True)\n",
    "welcome_new = welcome_new.merge(abbr_titles, how='outer', on='journal_title', validate='m:m')\n",
    "welcome_new.drop_duplicates(inplace=True)\n"
   ]
  },
  {
   "cell_type": "code",
   "execution_count": 50,
   "metadata": {},
   "outputs": [],
   "source": [
    "welcome_new['good_title'] = 'open'\n",
    "pmid_res = pd.read_csv('pmid_res.txt')\n",
    "pmid_res.set_index('indx', inplace=True)\n",
    "pmc_res = pd.read_csv('pmc_res_clean.txt')\n",
    "pmc_res.set_index('indx', inplace=True)\n",
    "#mask = (welcome_new.index == pmid_res.indx)\n",
    "\n",
    "number = pmid_res.index\n",
    "for i in number.astype(str):\n",
    "    x = int(i)\n",
    "    welcome_new.at[x, 'good_title'] = pmid_res.abbr.loc[x]\n",
    "    \n",
    "number_2 = pmc_res.index\n",
    "for i in number_2.astype(str):\n",
    "    x = int(i)\n",
    "    welcome_new.at[x, 'good_title'] = pmc_res.abbr.loc[x]\n",
    "    #welcome_new.good_title.loc[x] = pmc_res.abbr.loc[x]    \n",
    "\n",
    "welcome_new.good_title = np.where(welcome_new['score_y']==100,\\\n",
    "                                  welcome_new['journal_title'],\\\n",
    "                                  welcome_new['good_title'])\n",
    "welcome_new.good_title = np.where(welcome_new['score_x']==100,\\\n",
    "                                  welcome_new['medline_abbr_x'],\\\n",
    "                                  welcome_new['good_title'])\n",
    "welcome_new.good_title = np.where(welcome_new['score_x'].between(96, 99),\\\n",
    "                                  welcome_new['medline_abbr_x'],\\\n",
    "                                  welcome_new['good_title'])\n",
    "welcome_new.good_title = np.where(welcome_new['score_x'].between(95,95) &\\\n",
    "                                  welcome_new['score_y'].between(90,90),\\\n",
    "                                  welcome_new['medline_abbr_x'],\\\n",
    "                                  welcome_new['good_title'])\n",
    "welcome_new.good_title = np.where(welcome_new['score_x'].between(90,90) &\\\n",
    "                                  welcome_new['score_y'].between(90,90),\\\n",
    "                                  welcome_new['medline_abbr_x'],\\\n",
    "                                  welcome_new['good_title'])\n",
    "welcome_new.good_title = np.where(welcome_new['score_x'].between(92,92) &\\\n",
    "                                  welcome_new['score_y'].between(92,92),\\\n",
    "                                  welcome_new['medline_abbr_x'],\\\n",
    "                                  welcome_new['good_title'])\n",
    "welcome_new.good_title = np.where(welcome_new['score_x'].between(91,91) &\\\n",
    "                                  welcome_new['score_y'].between(90,90),\\\n",
    "                                  welcome_new['medline_abbr_x'],\\\n",
    "                                  welcome_new['good_title'])\n",
    "welcome_new.good_title = np.where(welcome_new['score_x'].between(95,95) &\\\n",
    "                                  welcome_new['score_y'].between(86,86),\\\n",
    "                                  welcome_new['medline_abbr_x'],\\\n",
    "                                  welcome_new['good_title'])  \n",
    "welcome_new.good_title = np.where(welcome_new['score_x'].between(93,93) &\\\n",
    "                                  welcome_new['score_y'].between(90,90),\\\n",
    "                                  welcome_new['medline_abbr_x'],\\\n",
    "                                  welcome_new['good_title'])\n",
    "welcome_new.good_title = np.where(welcome_new['score_x'].between(95,95) &\\\n",
    "                                  welcome_new['score_y'].between(74,74),\\\n",
    "                                  welcome_new['medline_abbr_x'],\\\n",
    "                                  welcome_new['good_title'])\n",
    "welcome_new.good_title = np.where(welcome_new['score_x'].between(95,95) &\\\n",
    "                                  welcome_new['score_y'].between(95,95),\\\n",
    "                                  welcome_new['medline_abbr_x'],\\\n",
    "                                  welcome_new['good_title'])\n",
    "welcome_new.good_title = np.where(welcome_new['score_x'].between(87,87) &\\\n",
    "                                  welcome_new['score_y'].between(86,86),\\\n",
    "                                  welcome_new['medline_abbr_x'],\\\n",
    "                                  welcome_new['good_title'])\n",
    "welcome_new.good_title = np.where(welcome_new['score_x'].between(87,87) &\\\n",
    "                                  welcome_new['score_y'].between(90,90),\\\n",
    "                                  welcome_new['medline_abbr_x'],\\\n",
    "                                  welcome_new['good_title'])\n",
    "welcome_new.good_title = np.where(welcome_new['score_x'].between(90,90) &\\\n",
    "                                  welcome_new['score_y'].between(81,81),\\\n",
    "                                  welcome_new['medline_abbr_x'],\\\n",
    "                                  welcome_new['good_title'])\n",
    "welcome_new.good_title = np.where(welcome_new['score_x'].between(87,87) &\\\n",
    "                                  welcome_new['score_y'].between(90,90),\\\n",
    "                                  welcome_new['medline_abbr_x'],\\\n",
    "                                  welcome_new['good_title'])\n",
    "welcome_new.good_title = np.where(welcome_new['score_x'].between(90,90) &\\\n",
    "                                  welcome_new['score_y'].between(77,77),\\\n",
    "                                  welcome_new['medline_abbr_x'],\\\n",
    "                                  welcome_new['good_title'])\n",
    "welcome_new.good_title = np.where(welcome_new['score_x'].between(90,90) &\\\n",
    "                                  welcome_new['score_y'].between(98,98),\\\n",
    "                                  welcome_new['medline_abbr_x'],\\\n",
    "                                  welcome_new['good_title'])\n",
    "welcome_new.good_title = np.where(welcome_new['score_x'].between(93,93) &\\\n",
    "                                  welcome_new['score_y'].between(90,90),\\\n",
    "                                  welcome_new['medline_abbr_x'],\\\n",
    "                                  welcome_new['good_title'])\n",
    "welcome_new.good_title = np.where(welcome_new['score_x'].between(86,86) &\\\n",
    "                                  welcome_new['score_y'].between(94,94),\\\n",
    "                                  welcome_new['medline_abbr_y'],\\\n",
    "                                  welcome_new['good_title'])\n",
    "welcome_new.good_title = np.where(welcome_new['score_x'].between(92,92) &\\\n",
    "                                  welcome_new['score_y'].between(90,90),\\\n",
    "                                  welcome_new['medline_abbr_x'],\\\n",
    "                                  welcome_new['good_title'])\n",
    "welcome_new.good_title = np.where(welcome_new['score_x'].between(94,94) &\\\n",
    "                                  welcome_new['score_y'].between(95,95),\\\n",
    "                                  welcome_new['medline_abbr_x'],\\\n",
    "                                  welcome_new['good_title'])\n",
    "welcome_new.good_title = np.where(welcome_new['score_x'].between(95,95) &\\\n",
    "                                  welcome_new['score_y'].between(85,85),\\\n",
    "                                  welcome_new['medline_abbr_x'],\\\n",
    "                                  welcome_new['good_title'])\n",
    "welcome_new.good_title = np.where(welcome_new['score_x'].between(90,90) &\\\n",
    "                                  welcome_new['score_y'].between(95,95),\\\n",
    "                                  welcome_new['medline_abbr_x'],\\\n",
    "                                  welcome_new['good_title'])\n",
    "welcome_new.good_title = np.where(welcome_new['score_x'].between(88,88) &\\\n",
    "                                  welcome_new['score_y'].between(90,90),\\\n",
    "                                  welcome_new['medline_abbr_x'],\\\n",
    "                                  welcome_new['good_title'])\n",
    "welcome_new.good_title = np.where(welcome_new['score_x'].between(95,95) &\\\n",
    "                                  welcome_new['score_y'].between(91,91),\\\n",
    "                                  welcome_new['medline_abbr_x'],\\\n",
    "                                  welcome_new['good_title'])\n",
    "welcome_new.good_title = np.where(welcome_new['score_x'].between(86,86) &\\\n",
    "                                  welcome_new['score_y'].between(93,93),\\\n",
    "                                  welcome_new['medline_abbr_y'],\\\n",
    "                                  welcome_new['good_title'])\n",
    "welcome_new.good_title = np.where(welcome_new['score_x'].between(90,90) &\\\n",
    "                                  welcome_new['score_y'].between(93,93),\\\n",
    "                                  welcome_new['medline_abbr_x'],\\\n",
    "                                  welcome_new['good_title'])\n",
    "welcome_new.good_title = np.where(welcome_new['score_x'].between(86,86) &\\\n",
    "                                  welcome_new['score_y'].between(90,90),\\\n",
    "                                  welcome_new['medline_abbr_x'],\\\n",
    "                                  welcome_new['good_title'])\n",
    "welcome_new.good_title = np.where(welcome_new['score_x'].between(90,90) &\\\n",
    "                                  welcome_new['score_y'].between(86,86),\\\n",
    "                                  welcome_new['medline_abbr_x'],\\\n",
    "                                  welcome_new['good_title'])\n",
    "welcome_new.good_title = np.where(welcome_new['score_x'].between(93,93) &\\\n",
    "                                  welcome_new['score_y'].between(93,93),\\\n",
    "                                  welcome_new['medline_abbr_x'],\\\n",
    "                                  welcome_new['good_title'])"
   ]
  },
  {
   "cell_type": "markdown",
   "metadata": {},
   "source": [
    "Google lookup 39 with no PMCID or PMID  \n",
    "1372:Viral suppression following switch to second-line antiretroviral therapy: associations with NRTI resistance and 'sub-therapeutic' drug concentrations prior to switch,  \n",
    "1485:Beyond the Medical Text: Health and Illness in Early Medieval Italian Sources,  \n",
    "1483:A Modern History of the Stomach,  \n",
    "424:alpha2delta-1 gene deletion affects somatosensory neuron function and delays mechanical hypersensitivity in response to peripheral nerve damage,  \n",
    "981:The impact on a serogroup a meningococcal conjugate vaccine (PsA-TT) on serogroup A menigococcal meningitis and carriage in Chad,  \n",
    "434:Effect of limb lengthening on internodal length and conduction velocity of peripheral nerve,  \n",
    "432:A distinct contribution of short wavelength sensitive cones to light evoked activity in the mouse pretectal olivary nucleus (PON),  \n",
    "1934:Determinants of Enrolment in Voluntary Health Insurance: Evidences from a Mixed Method Study, Kerala, India \t,  \n",
    "2083:A Visual Assay to Monitor T6SS-mediated Bacterial Competition,  \n",
    "2071:Parenthood, child-rearing and fertility in England, 1850-1914,  \n",
    "2062:We Cannot Be Greek Now: Age Difference, Corruption of Youth and the Making of Sexual Inversion \t,  \n",
    "2000:Use of antibiotic prophylaxis in elective inguinal hernia repair in adults in London and south-east England: a cross sectional survey,  \n",
    "1315:Reading therapy strengthens top-down connectivity in patients with pure alexia \t,  \n",
    "1313:Atypical basic movement kinematics in autism spectrum conditions \t,  \n",
    "1311:The role of human ventral visual cortex in motion perception,  \n",
    "2096:Acute alcohol-related dysfunction as a predictor of employment status in a longitudinal study of working age men in Izhevsk, Russia. \t,  \n",
    "1753:Subjective wellbeing: a primer for poverty analysts,  \n",
    "2180:Proteome-wide analyses of human hepatocytes during differentiation and de-differentiation,  \n",
    "2198:Length of carotid stenosis predicts peri-procedural stroke or death and restenosis in patients randomized to endovascular treatment or endarterectomy,  \n",
    "195:Developmental Trajectories of Verbal and Nonverbal Skills in Individuals with a History of Specific Language Impairment: From Childhood to Adolescence,  \n",
    "183:The association between breastfeeding and HIV on postpartum maternal weight changes over 24 months in rural South Africa,  \n",
    "1158:Meningococcal carriage in the African meningitis belt.,  \n",
    "1232:Behavioral genetics and population health interventions for alcohol problems: at odds or oddly in agreement?,  \n",
    "1096:Prevalence and risk factors for self-reported asthma in an adult Indian population: a cross-sectional survey,  \n",
    "1057:Bridging the gap between computation and clinical biology: validation of cable theory in humans,  \n",
    "1054:Exploration, Novelty, Surprise and Free Energy Minimisation,  \n",
    "1791:Re-axpession of IGF-II is important for Beta Cell Regeneration and Adult Mice,  \n",
    "1792:Localisation of RNAs into the Germ Plasm of Viellogenic Xenopus Oocytes,  \n",
    "1793:Cytosolic entry of Shiga-like toxin A chain from the yeast endoplasmic reticulum requires catalytica,  \n",
    "1868:Laboratory Science in Tropical Medicine,  \n",
    "1869:Assessment of in vivo metabolism in failing hearts using hyperpolarised 13C magnetic resonance \t,  \n",
    "1790:Time to pregnancy: a computational method for using the duration of non-conception for predicting   conception \t,  \n",
    "1789:Sleep-wake sensitive mechanisms of adenosine release in the Basal forebrain of rodents: an in vitro study,  \n",
    "1787:Cloned defective interfering influenza virus protects ferrets from pandemic 2009 influenza A virus,  \n",
    "546:Stuck in ruins, or up and coming? \t,  \n",
    "548:Pharmacy, money and public health in Dakar.,  \n",
    "1504:Spatial attention, precision and Bayesian inference: a study of saccadic response speed,  \n",
    "1503:Inter- and Intra-hemispheric connectivity differences when reading Japanese Kanji and Hiragana,  \n",
    "1095:Socio-economic patterning of tobacco use in Indian states  "
   ]
  },
  {
   "cell_type": "code",
   "execution_count": 67,
   "metadata": {},
   "outputs": [
    {
     "data": {
      "text/html": [
       "<div>\n",
       "<style scoped>\n",
       "    .dataframe tbody tr th:only-of-type {\n",
       "        vertical-align: middle;\n",
       "    }\n",
       "\n",
       "    .dataframe tbody tr th {\n",
       "        vertical-align: top;\n",
       "    }\n",
       "\n",
       "    .dataframe thead th {\n",
       "        text-align: right;\n",
       "    }\n",
       "</style>\n",
       "<table border=\"1\" class=\"dataframe\">\n",
       "  <thead>\n",
       "    <tr style=\"text-align: right;\">\n",
       "      <th></th>\n",
       "      <th>PMID_PMCID</th>\n",
       "      <th>Publisher</th>\n",
       "      <th>journal_title</th>\n",
       "      <th>article_title</th>\n",
       "      <th>cost</th>\n",
       "      <th>full_title</th>\n",
       "      <th>score_x</th>\n",
       "      <th>file_index_x</th>\n",
       "      <th>medline_abbr_x</th>\n",
       "      <th>medline_abbr_y</th>\n",
       "      <th>score_y</th>\n",
       "      <th>file_index_y</th>\n",
       "      <th>medline_abbr_2</th>\n",
       "      <th>good_title</th>\n",
       "    </tr>\n",
       "  </thead>\n",
       "  <tbody>\n",
       "    <tr>\n",
       "      <th>2344</th>\n",
       "      <td>NaN</td>\n",
       "      <td>NaN</td>\n",
       "      <td>Evidence Ethos and Experiment The Anthropology and History of Medical Research in Africa</td>\n",
       "      <td>NaN</td>\n",
       "      <td>NaN</td>\n",
       "      <td>Nihon shika hyoron The Nippon dental review</td>\n",
       "      <td>86.0</td>\n",
       "      <td>3.0</td>\n",
       "      <td>Nihon Shika Hyoron</td>\n",
       "      <td>In Vitro Monogr</td>\n",
       "      <td>86.0</td>\n",
       "      <td>4034.0</td>\n",
       "      <td>In Vitro Monogr</td>\n",
       "      <td>open</td>\n",
       "    </tr>\n",
       "    <tr>\n",
       "      <th>2378</th>\n",
       "      <td>NaN</td>\n",
       "      <td>NaN</td>\n",
       "      <td>Health An Interdisciplinary Journal for the Social Study of Health Illness and Medicine</td>\n",
       "      <td>NaN</td>\n",
       "      <td>NaN</td>\n",
       "      <td>\" AADE editors journal\"</td>\n",
       "      <td>86.0</td>\n",
       "      <td>0.0</td>\n",
       "      <td>AADE Ed J</td>\n",
       "      <td>Adm Ment Health</td>\n",
       "      <td>86.0</td>\n",
       "      <td>245.0</td>\n",
       "      <td>Adm Ment Health</td>\n",
       "      <td>open</td>\n",
       "    </tr>\n",
       "    <tr>\n",
       "      <th>2382</th>\n",
       "      <td>NaN</td>\n",
       "      <td>NaN</td>\n",
       "      <td>RSTB 20120145</td>\n",
       "      <td>NaN</td>\n",
       "      <td>NaN</td>\n",
       "      <td>International journal of obesity 2005</td>\n",
       "      <td>50.0</td>\n",
       "      <td>19351.0</td>\n",
       "      <td>Int J Obes Lond</td>\n",
       "      <td>SBC</td>\n",
       "      <td>60.0</td>\n",
       "      <td>14201.0</td>\n",
       "      <td>SBC</td>\n",
       "      <td>open</td>\n",
       "    </tr>\n",
       "  </tbody>\n",
       "</table>\n",
       "</div>"
      ],
      "text/plain": [
       "     PMID_PMCID Publisher  \\\n",
       "2344  NaN        NaN        \n",
       "2378  NaN        NaN        \n",
       "2382  NaN        NaN        \n",
       "\n",
       "                                                                                 journal_title  \\\n",
       "2344  Evidence Ethos and Experiment The Anthropology and History of Medical Research in Africa   \n",
       "2378  Health An Interdisciplinary Journal for the Social Study of Health Illness and Medicine    \n",
       "2382  RSTB 20120145                                                                              \n",
       "\n",
       "     article_title cost                                   full_title  score_x  \\\n",
       "2344  NaN           NaN  Nihon shika hyoron The Nippon dental review  86.0      \n",
       "2378  NaN           NaN  \" AADE editors journal\"                      86.0      \n",
       "2382  NaN           NaN  International journal of obesity 2005        50.0      \n",
       "\n",
       "      file_index_x      medline_abbr_x   medline_abbr_y  score_y  \\\n",
       "2344  3.0           Nihon Shika Hyoron  In Vitro Monogr  86.0      \n",
       "2378  0.0           AADE Ed J           Adm Ment Health  86.0      \n",
       "2382  19351.0       Int J Obes Lond     SBC              60.0      \n",
       "\n",
       "      file_index_y   medline_abbr_2 good_title  \n",
       "2344  4034.0        In Vitro Monogr  open       \n",
       "2378  245.0         Adm Ment Health  open       \n",
       "2382  14201.0       SBC              open       "
      ]
     },
     "execution_count": 67,
     "metadata": {},
     "output_type": "execute_result"
    }
   ],
   "source": [
    "welcome_new.at[1372, 'good_title'] = 'J Infect Dis'\n",
    "welcome_new.at[1485, 'good_title'] = 'Soc Hist Med'\n",
    "welcome_new.at[1483, 'good_title'] = 'Soc Hist Med'\n",
    "welcome_new.at[424, 'good_title'] = 'J Neurosci'\n",
    "welcome_new.at[981, 'good_title'] = 'Lancet'\n",
    "welcome_new.at[434, 'good_title'] = 'J Neurosci'\n",
    "welcome_new.at[432, 'good_title'] = 'J Neurosci'\n",
    "welcome_new.at[1934, 'good_title'] = 'Int J Fi Re'\n",
    "welcome_new.at[2071, 'good_title'] = 'Hist Fam'\n",
    "welcome_new.at[2062, 'good_title'] = 'Engl Stud'\n",
    "welcome_new.at[2000, 'good_title'] = 'Hernia'\n",
    "welcome_new.at[1315, 'good_title'] = 'Brain'\n",
    "welcome_new.at[1313, 'good_title'] = 'Brain'\n",
    "welcome_new.at[1311, 'good_title'] = 'Brain'\n",
    "welcome_new.at[2096, 'good_title'] = 'Addiction'\n",
    "welcome_new.at[1753, 'good_title'] = 'J Poverty Soc Justice'\n",
    "welcome_new.at[2180, 'good_title'] = 'Hepatology'\n",
    "welcome_new.at[2198, 'good_title'] = 'Int J Stroke'\n",
    "welcome_new.at[195, 'good_title'] = 'J Speech Lang Hear Res'\n",
    "welcome_new.at[183, 'good_title'] = 'Trop Med Int Health'\n",
    "welcome_new.at[1158, 'good_title'] = 'J Infect'\n",
    "welcome_new.at[1232, 'good_title'] = 'Genet Med'\n",
    "welcome_new.at[1096, 'good_title'] = 'Int J Tuberc Lung Dis'\n",
    "welcome_new.at[1057, 'good_title'] = 'Front Physiol'\n",
    "welcome_new.at[1054, 'good_title'] = 'Front Psychol'\n",
    "welcome_new.at[1791:1793, 'good_title'] = 'PLoS One'\n",
    "welcome_new.at[1868, 'good_title'] = 'Pub Ser Rev UK sci tech'\n",
    "welcome_new.at[1869, 'good_title'] = 'J Cardi Mag Res'\n",
    "welcome_new.at[1790, 'good_title'] = 'PLoS One'\n",
    "welcome_new.at[1789, 'good_title'] = 'PLoS One'\n",
    "welcome_new.at[1787, 'good_title'] = 'PLoS One'\n",
    "welcome_new.at[546, 'good_title'] = 'Africa'\n",
    "welcome_new.at[548, 'good_title'] = 'Africa'\n",
    "welcome_new.at[1504, 'good_title'] = 'Cereb Cortex'\n",
    "welcome_new.at[1503, 'good_title'] = 'Cereb Cortex'\n",
    "welcome_new.at[1095, 'good_title'] = 'Int J Tuberc Lung Dis'\n",
    "welcome_new.at[122, 'good_title'] = 'J Exp Psychol Anim Behav Process'\n",
    "welcome_new.at[123, 'good_title'] = 'J Exp Psychol Hum Percept Perform'\n",
    "welcome_new.at[124, 'good_title'] = 'J Exp Psychol Hum Percept Perform'\n",
    "welcome_new.at[128, 'good_title'] = 'J Exp Psychol Hum Percept Perform'\n",
    "welcome_new.at[130, 'good_title'] = 'J Biol Chem'\n",
    "welcome_new.at[131, 'good_title'] = 'J Biol Chem'\n",
    "welcome_new.at[132, 'good_title'] = 'J Biol Chem'\n",
    "welcome_new.at[133, 'good_title'] = 'J Biol Chem'\n",
    "welcome_new.at[133, 'good_title'] = 'J Biol Chem'\n",
    "welcome_new.at[134, 'good_title'] = 'Mol Cell Proteomics'\n",
    "welcome_new.at[201, 'good_title'] = 'Evidence, Ethos and Experiment: the Anthropology and History of Medical Research in Africa'\n",
    "welcome_new.at[212, 'good_title'] = 'Evidence, Ethos and Experiment: the Anthropology and History of Medical Research in Africa'\n",
    "welcome_new.at[316, 'good_title'] = 'Implement Sci'\n",
    "welcome_new.at[317, 'good_title'] = 'Parasit Vectors'\n",
    "welcome_new.at[342, 'good_title'] = 'Reproduction'\n",
    "welcome_new.at[385:390, 'good_title'] = 'J Neurol Neurosurg Psychiatry'\n",
    "welcome_new.at[407, 'good_title'] = 'Sex Transm Infect'\n",
    "welcome_new.at[544, 'good_title'] = 'J Cell Sci'\n",
    "welcome_new.at[547, 'good_title'] = 'Africa'\n",
    "welcome_new.at[561, 'good_title'] = 'G3'\n",
    "welcome_new.at[649, 'good_title'] = 'Biochim Biophys Acta'\n",
    "welcome_new.at[661, 'good_title'] = 'Biochim Biophys Acta'\n",
    "welcome_new.at[213, 'good_title'] = 'Evidence, Ethos and Experiment: the Anthropology and History of Medical Research in Africa'\n",
    "welcome_new.at[310, 'good_title'] = 'BMC Genomics'\n",
    "welcome_new.at[863, 'good_title'] = 'N Biotechnol'\n",
    "welcome_new.at[890:894, 'good_title'] = 'Neuroimage Clin'\n",
    "welcome_new.at[947, 'good_title'] = 'Protein Expr Purif'\n",
    "welcome_new.at[972, 'good_title'] = 'Stud Hist Philos Biol Biomed Sci'\n",
    "welcome_new.at[985, 'good_title'] = 'Vet J'\n",
    "welcome_new.at[1019, 'good_title'] = 'curr Biol'\n",
    "welcome_new.at[1097:1098, 'good_title'] = 'Acta Crystallogr D Biol Crystallogr'\n",
    "welcome_new.at[1102, 'good_title'] = 'J Synchrotron Radiat'\n",
    "welcome_new.at[1104, 'good_title'] = 'Acta Crystallogr D Biol Crystallogr'\n",
    "welcome_new.at[1105:1106, 'good_title'] ='Acta Crystallogr Sect F Struct Biol Cryst Commun'\n",
    "welcome_new.at[1148, 'good_title'] = 'Popul Space Place'\n",
    "welcome_new.at[1200, 'good_title'] = 'Fungal Disease in Britain and the United States 1850-2000'\n",
    "welcome_new.at[1204, 'good_title'] = 'Tissue Eng Part A'\n",
    "welcome_new.at[1213, 'good_title'] = 'Proc Natl Acad Sci U S A'\n",
    "welcome_new.at[1473, 'good_title'] = 'Clin Infect Dis'\n",
    "welcome_new.at[1477, 'good_title'] = 'J Gerontol A Biol Sci Med Sci.'\n",
    "welcome_new.at[1526, 'good_title'] = 'Protein Eng Des Sel'\n",
    "welcome_new.at[1527:1528, 'good_title'] = 'QJM'\n",
    "welcome_new.at[1751, 'good_title'] = 'Proc Natl Acad Sci U S A'\n",
    "welcome_new.at[1776, 'good_title'] = 'Proc Natl Acad Sci U S A'\n",
    "welcome_new.at[1788, 'good_title'] = 'PLoS One'\n",
    "welcome_new.at[1892, 'good_title'] = 'J R Soc Interface'\n",
    "welcome_new.at[1895, 'good_title'] = 'Philos Trans R Soc Lond B Biol Sci'\n",
    "welcome_new.at[1900:1907, 'good_title'] = 'Philos Trans R Soc Lond B Biol Sci'\n",
    "welcome_new.at[1917, 'good_title'] = 'Health'\n",
    "welcome_new.at[1969, 'good_title'] = 'Anal Bioanal Chem'\n",
    "welcome_new.at[2042, 'good_title'] = 'Azania'\n",
    "welcome_new.at[2054, 'good_title'] = 'Azania'\n",
    "welcome_new.at[2073:2076, 'good_title'] = 'J Med Chem'\n",
    "welcome_new.at[2085:2086, 'good_title'] = 'Philos Trans R Soc Lond B Biol Sci'\n",
    "welcome_new.at[2128:2129, 'good_title'] = 'Birth Defects Res A Clin Mol Teratol.'\n",
    "welcome_new.at[2162:2163, 'good_title'] = 'FEBS J'\n",
    "welcome_new.at[2174, 'good_title'] = 'Genesis'\n",
    "welcome_new.at[2194, 'good_title'] = 'Hum Mutat'\n",
    "welcome_new.at[2215, 'good_title'] = 'J R Stat Soc Ser C Appl Stat'\n",
    "welcome_new.at[2267, 'good_title'] = 'Child Care Health Dev'\n",
    "welcome_new.at[2277, 'good_title'] = 'Child Care Health Dev'\n",
    "welcome_new.at[2278:2282, 'good_title'] = 'Dev World Bioeth'\n",
    "welcome_new.at[2284, 'good_title'] = 'Influenza Other Respir Viruses'\n",
    "welcome_new.at[2334, 'good_title'] = 'J Acquir Immune Defic Syndr'\n",
    "\n",
    "pd.set_option('display.max_colwidth', -1)\n",
    "welcome_new.describe"
   ]
  },
  {
   "cell_type": "markdown",
   "metadata": {},
   "source": [
    "Separate out good matches for titles and abbreviations.  \n",
    "1) Select all abbreviation score (score_y) == 100\n",
    "2) Select remaining pubmed titles score (score_x) ==100  \n",
    "3) Select remaining pubmed titles score (score_x) between 96 and 99"
   ]
  },
  {
   "cell_type": "code",
   "execution_count": null,
   "metadata": {
    "scrolled": true
   },
   "outputs": [],
   "source": [
    "pd.set_option('display.max_colwidth', -1)\n",
    "pd.set_option('display.max_rows', 300)\n",
    "welcome_abbr_match_100 = welcome_new[welcome_new.score_y==100]\n",
    "welcome_title_match_100 = welcome_new[welcome_new.score_x==100]\n",
    "welcome_title_match_96 = welcome_new[welcome_new.score_x.between(96,99)]\\\n",
    ".sort_values('score_x')\n",
    "welcome_title_match_91 = welcome_new[welcome_new.score_x.between(91,95)]\\\n",
    ".sort_values('score_x')\n",
    "welcome_title_match_89 = welcome_new[welcome_new.score_x.between(89,90)]\\\n",
    ".sort_values('score_x')\n",
    "\n",
    "welcome_title_match_86 = welcome_new[welcome_new.score_x.between(86,88)]\\\n",
    ".sort_values('score_x')\n",
    "\n",
    "welcome_title_match_50 = welcome_new[welcome_new.score_x.between(50,85)]\\\n",
    ".sort_values('score_x')\n"
   ]
  },
  {
   "cell_type": "code",
   "execution_count": null,
   "metadata": {},
   "outputs": [],
   "source": []
  },
  {
   "cell_type": "code",
   "execution_count": null,
   "metadata": {
    "scrolled": true
   },
   "outputs": [],
   "source": [
    "pmid = pd.read_csv('PMID.csv', skipinitialspace=True)\n",
    "pmid = pmid.replace(np.nan, '', regex=True)\n",
    "\n",
    "pmid.rename(index=str, columns={'Unnamed: 0':'id'}, inplace=True)\n",
    "\n",
    "replacements = {'PMCID':'PMC'} #, '(\\\\b)(\\\\d{7})(\\\\b)':'PMC3, ',':' ', '(\\r\\n)':' ', '(\\\\D)':' '}\n",
    "pmid.id = pmid.id.replace(replacements, regex=True)\n",
    "pmid.id[40]==r'3\\\\d{6}'\n",
    "#pmid.where(pmid.id!='\\\\d{7}', other=nan, inplace=False, axis=None, level=None, errors='raise', try_cast=False, raise_on_error=None)[source]\n",
    "#pmid.id = pmid.id.str.strip()\n",
    "#pmid['first_part'], pmid['second_part'] = pmid.id.str.split('PMC', 1).str\n",
    "#pmid.to_csv('numbers.csv', index=False)\n",
    "#pmid[0:50]"
   ]
  },
  {
   "cell_type": "code",
   "execution_count": null,
   "metadata": {},
   "outputs": [],
   "source": [
    "data = {1378:24048963, 1376:22301630, 1374:23945372, 1370:23493728, 1336:23884064,\n",
    "1496: 23658422, 1271:23328632, 722:23932517, 568:2766312, 440:24285889, 428:23739958,\n",
    "1077:23847615, 634:23907068, 608:23341602, 604:23650371, 602:23319650, 598:23213245,\n",
    "1911:23023652, 1866:23166732, 1784:23527131, 1783:24147036, 1898:23282992, 1976:23052214,\n",
    "2095:21624095, 1782:23844111, 2044:22897899, 2037:22618994, 1781:23239765, 1517:23328711,\n",
    "1516:22735079, 1492:23162054, 1490:23396536, 2097:23734913, 2286:22364555, 2320:23670821,\n",
    "2179:22807091, 2178:23775568, 2173:21255266, 2172:23738518, 729:22155499, 730:20800751,\n",
    "732:23620154, 731:24064150, 775:23137753, 735:23541370, 734:21680110, 733:22591621,\n",
    "208:23589301, 414:23709760, 1231:23703681, 221:22738332, 2296:22961729, 2295:22730171,\n",
    "2294:21472932, 806:23642644, 1099:22993091, 1525:23981980, 1489:22345357, 617:2294692}\n",
    "\n",
    "pmid_list = pd.DataFrame.from_dict(data, orient='index', columns=['pmid'])\n"
   ]
  },
  {
   "cell_type": "code",
   "execution_count": null,
   "metadata": {},
   "outputs": [],
   "source": [
    "pmc_data = {1380:3749005,1382:3583273,1338:3381638,1334:3540040,1284:3604800,1482:3635503,1484:3481955,1752:3606973,2335:3707567,1512:3600839,1495:3476336,\n",
    "1494:3570213,1184:3547901,420:3676539,422:23426678,805:3793856,982:3627205,980:3525981,578:3529010,576:3479458,574:3670340,572:3704016,570:3511132,\n",
    "438:3586675,430:3655688,426:3724995,580:3479523,582:3538261,586:3666720,611:3738233,610:3607403,600:3503170,594:3746881,592:3752214,590:3587277,\n",
    "584:3557024,1929:3682634,1923:3524560,1908:3785133,1867:3388079,1863:3712914,1809:3692470,1961:3549237,2084:3613719,1320:3501977,1319:3634199,\n",
    "1318:3159156,1316:3692042,1312:3754462,1310:3692041,1309:3673465,1308:3673458,1767:3526116,1488:3496338,1487:3546802,1486:3413389,2104:3749465,\n",
    "2266:3853540,2287:3465775,2330:3819359,2146:3638371,1307:3286332,1303:3639724,660:3793867,560:3644702,774:3438445,913:3562439,202:3734580,198:3597819,\n",
    "494:3687256,493:3533127,1160:3627817,1159:3770928,1157:3558801,1155:3717178,1241:3465389,1208:3571806,965:3526787,1129:3563216,1018:3763376,1000:3759846,\n",
    "970:3694306,969:3664939,968:3651934,967:3542428,1049:3677134,1100:3087623,1073:3715722,1072:3557415,1069:3676342,1046:3689257,1067:3564010,1065:3502006,\n",
    "1056:3759789,1053:3644713,1050:3521128,1066:3444764,1893:3679597,1894:3758187,1956:3492749,2041:3627851,2043:3778840,2147:3698701,2331:3773237,\n",
    "2332:3815011,1101:3374517,1110:3510731,1749:3612675,1550:3493395,1530:3475639,1505:3673173,1499:3170535,1497:3580272,1481:3819976,2305:3731578,\n",
    "612:3549118,613:3606975,614:3612627,615:3491471,616:3529030,1864:3749971,1865:3460945,1207:3717731,1162:3427885,352:3686250}\n",
    "pmc_list = pd.DataFrame.from_dict(pmc_data, orient='index', columns=['pmc'])"
   ]
  },
  {
   "cell_type": "code",
   "execution_count": null,
   "metadata": {},
   "outputs": [],
   "source": [
    "pmid_call = pd.read_table('pmid_res.txt', names=['abbr'])"
   ]
  },
  {
   "cell_type": "code",
   "execution_count": null,
   "metadata": {},
   "outputs": [],
   "source": [
    "pmc_get = pmc_list.pmc.apply(str)\n",
    "for i in pmc_get:\n",
    "    indx = list(pmc_get.loc[pmc_get == i].index)\n",
    "    pmc = list(pmc_get.loc[pmc_get == i])\n",
    "    r = requests.get('https://eutils.ncbi.nlm.nih.gov/entrez/eutils/efetch.fcgi?db=pmc&id='+i+'&retmode=text&rettype=mln-ta&api_key=3ffbbb6bd110815d69e4aa14b7c26d72ab09')\n",
    "    print(indx, pmc, r.text)\n",
    "\n",
    "    "
   ]
  },
  {
   "cell_type": "code",
   "execution_count": null,
   "metadata": {},
   "outputs": [],
   "source": [
    "titles = pd.read_csv('title_list.txt')\n",
    "titles"
   ]
  },
  {
   "cell_type": "code",
   "execution_count": null,
   "metadata": {},
   "outputs": [],
   "source": []
  },
  {
   "cell_type": "code",
   "execution_count": null,
   "metadata": {},
   "outputs": [],
   "source": [
    "welcome_titles = pd.DataFrame(welcome['Journal title'].unique())\n",
    "welcome_titles.to_csv('welcome-titles.csv', index=False)"
   ]
  }
 ],
 "metadata": {
  "kernelspec": {
   "display_name": "Python 3",
   "language": "python",
   "name": "python3"
  },
  "language_info": {
   "codemirror_mode": {
    "name": "ipython",
    "version": 3
   },
   "file_extension": ".py",
   "mimetype": "text/x-python",
   "name": "python",
   "nbconvert_exporter": "python",
   "pygments_lexer": "ipython3",
   "version": "3.7.0"
  },
  "toc": {
   "base_numbering": 1,
   "nav_menu": {},
   "number_sections": true,
   "sideBar": true,
   "skip_h1_title": true,
   "title_cell": "",
   "title_sidebar": "Contents",
   "toc_cell": false,
   "toc_position": {
    "height": "47.7167px",
    "left": "88.9667px",
    "top": "111.133px",
    "width": "159.033px"
   },
   "toc_section_display": true,
   "toc_window_display": true
  }
 },
 "nbformat": 4,
 "nbformat_minor": 2
}
